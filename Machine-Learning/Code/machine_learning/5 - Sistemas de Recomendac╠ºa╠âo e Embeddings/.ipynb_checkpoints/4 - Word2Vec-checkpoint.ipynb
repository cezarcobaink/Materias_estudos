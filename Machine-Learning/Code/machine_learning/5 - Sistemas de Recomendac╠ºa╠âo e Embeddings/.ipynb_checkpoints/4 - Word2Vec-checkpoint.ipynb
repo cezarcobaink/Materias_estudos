{
 "cells": [
  {
   "cell_type": "markdown",
   "id": "814580e7",
   "metadata": {},
   "source": [
    "# `Word2Vec`\n",
    "\n",
    "\n"
   ]
  },
  {
   "cell_type": "code",
   "execution_count": null,
   "id": "888cbbea",
   "metadata": {},
   "outputs": [],
   "source": [
    "import nltk\n",
    "from gensim.models import Word2Vec\n",
    "from nltk.corpus import stopwords"
   ]
  },
  {
   "cell_type": "markdown",
   "id": "48624f76",
   "metadata": {},
   "source": [
    "#### Vamos utilizar um texto de uma página do Wikipedia"
   ]
  },
  {
   "cell_type": "markdown",
   "id": "bdda30c2",
   "metadata": {},
   "source": [
    "https://pt.wikipedia.org/wiki/Monarquia_do_Reino_Unido\n",
    "\n",
    "\n",
    "A monarquia do Reino Unido, comumente chamada de monarquia britânica, é a monarquia constitucional do Reino Unido e seus territórios ultramarinos. O título do monarca é \"rei\" (homem) ou \"rainha\" (mulher). O atual monarca é Carlos III, que ascendeu ao trono em 8 de setembro de 2022 após a morte da rainha, Isabel II.\n",
    "\n",
    "O monarca e sua família imediata realizam várias funções oficiais, cerimoniais, diplomáticas e representativas e convocar o Parlamento e dissolve-lo. Como monarca constitucional, ele ou ela está limitado a funções apartidárias como a outorgação de honras e nomeação do primeiro-ministro. O monarca é tradicionalmente comandante em chefe das Forças Armadas Britânicas. Apesar da última autoridade formal executiva do governo do Reino Unido ainda ser através da prerrogativa real do monarca, esses poderes podem ser usados apenas de acordo com as leis promulgadas pelo parlamento e, na prática, dentro das restrições de convenções e precedentes.\n",
    "\n",
    "A monarquia britânica traça suas origens nos pequenos reinos da Escócia na alta idade média e os da Inglaterra anglo-saxã, que consolidaram-se nos reinos da Inglaterra e Escócia por volta do século X. O último monarca anglo-saxão, Haroldo II, foi derrotado e morto em 1066 durante a conquista normanda da Inglaterra e assim a monarquia inglesa passou para o normando Guilherme, o Conquistador, e seus descendentes.\n",
    "\n",
    "O norte do País de Gales, como principado, virou um estado cliente da Inglaterra no século XIII, enquanto a Magna Carta começou um processo de reduzir os poderes políticos do monarca.\n",
    "\n",
    "Os reinos da Inglaterra e Escócia passaram a ser governados por um único soberano a partir de 1603, quando o rei Jaime VI da Escócia herdou o trono inglês como Jaime I. De 1649 a 1660, a tradição da monarquia foi quebrada pela republicana Comunidade da Inglaterra, que estabeleceu-se depois da Guerra Civil Inglesa. O Decreto de Estabelecimento de 1701, que ainda está em vigor, excluiu católicos, ou aqueles casados com católicos, da linha de sucessão. Os reinos da Inglaterra e Escócia foram unidos em 1707 no Reino da Grã-Bretanha, e em 1801 o Reino da Irlanda se uniu para criar o Reino Unido da Grã-Bretanha e Irlanda. O monarca britânico tornou-se o chefe nominal do vasto Império Britânico, que cobriu um quarto da superfície da Terra em sua maior extensão no ano de 1921.\n",
    "\n",
    "A maior parte da Irlanda separou-se da união na década de 1920 como o Estado Livre Irlandês, com a Declaração Balfour reconhecendo a evolução dos domínios do império em países separados e com governos próprios dentro Commonwealth. Depois da Segunda Guerra Mundial, a maioria das colônias e territórios britânicos tornou-se independentes, efetivamente encerrando o império. Jorge VI e sua sucessora Isabel II adotaram o título de Chefe da Comunidade Britânica como símbolo da livre associação de estados independentes.\n",
    "\n",
    "O Reino Unido e quinze outras monarquias da Commonwealth partilham a mesma pessoa como seu monarca e são chamados de Reinos da Comunidade de Nações. Os termos \"monarquia britânica\" e \"monarca britânico\" são frequentemente empregados em referência à pessoa ou à instituição; entretanto, cada país é soberano e independente do outro, com o monarca tendo um título e estilo específico e nacional em cada reino."
   ]
  },
  {
   "cell_type": "code",
   "execution_count": null,
   "id": "1927b50d",
   "metadata": {},
   "outputs": [],
   "source": [
    "text = \"\"\"A monarquia do Reino Unido, comumente chamada de monarquia britânica, é a monarquia constitucional do Reino Unido e seus territórios ultramarinos. O título do monarca é \"rei\" (homem) ou \"rainha\" (mulher). O atual monarca é Carlos III, que ascendeu ao trono em 8 de setembro de 2022 após a morte da rainha, Isabel II.\n",
    "\n",
    "O monarca e sua família imediata realizam várias funções oficiais, cerimoniais, diplomáticas e representativas e convocar o Parlamento e dissolve-lo. Como monarca constitucional, ele ou ela está limitado a funções apartidárias como a outorgação de honras e nomeação do primeiro-ministro. O monarca é tradicionalmente comandante em chefe das Forças Armadas Britânicas. Apesar da última autoridade formal executiva do governo do Reino Unido ainda ser através da prerrogativa real do monarca, esses poderes podem ser usados apenas de acordo com as leis promulgadas pelo parlamento e, na prática, dentro das restrições de convenções e precedentes.\n",
    "\n",
    "A monarquia britânica traça suas origens nos pequenos reinos da Escócia na alta idade média e os da Inglaterra anglo-saxã, que consolidaram-se nos reinos da Inglaterra e Escócia por volta do século X. O último monarca anglo-saxão, Haroldo II, foi derrotado e morto em 1066 durante a conquista normanda da Inglaterra e assim a monarquia inglesa passou para o normando Guilherme, o Conquistador, e seus descendentes.\n",
    "\n",
    "O norte do País de Gales, como principado, virou um estado cliente da Inglaterra no século XIII, enquanto a Magna Carta começou um processo de reduzir os poderes políticos do monarca.\n",
    "\n",
    "Os reinos da Inglaterra e Escócia passaram a ser governados por um único soberano a partir de 1603, quando o rei Jaime VI da Escócia herdou o trono inglês como Jaime I. De 1649 a 1660, a tradição da monarquia foi quebrada pela republicana Comunidade da Inglaterra, que estabeleceu-se depois da Guerra Civil Inglesa. O Decreto de Estabelecimento de 1701, que ainda está em vigor, excluiu católicos, ou aqueles casados com católicos, da linha de sucessão. Os reinos da Inglaterra e Escócia foram unidos em 1707 no Reino da Grã-Bretanha, e em 1801 o Reino da Irlanda se uniu para criar o Reino Unido da Grã-Bretanha e Irlanda. O monarca britânico tornou-se o chefe nominal do vasto Império Britânico, que cobriu um quarto da superfície da Terra em sua maior extensão no ano de 1921.\n",
    "\n",
    "A maior parte da Irlanda separou-se da união na década de 1920 como o Estado Livre Irlandês, com a Declaração Balfour reconhecendo a evolução dos domínios do império em países separados e com governos próprios dentro Commonwealth. Depois da Segunda Guerra Mundial, a maioria das colônias e territórios britânicos tornou-se independentes, efetivamente encerrando o império. Jorge VI e sua sucessora Isabel II adotaram o título de Chefe da Comunidade Britânica como símbolo da livre associação de estados independentes.\n",
    "\n",
    "O Reino Unido e quinze outras monarquias da Commonwealth partilham a mesma pessoa como seu monarca e são chamados de Reinos da Comunidade de Nações. Os termos \"monarquia britânica\" e \"monarca britânico\" são frequentemente empregados em referência à pessoa ou à instituição; entretanto, cada país é soberano e independente do outro, com o monarca tendo um título e estilo específico e nacional em cada reino.\"\"\""
   ]
  },
  {
   "cell_type": "code",
   "execution_count": null,
   "id": "ad3e9aa4",
   "metadata": {},
   "outputs": [],
   "source": []
  },
  {
   "cell_type": "code",
   "execution_count": null,
   "id": "c0edc0ae",
   "metadata": {},
   "outputs": [],
   "source": []
  },
  {
   "cell_type": "code",
   "execution_count": null,
   "id": "861fb755",
   "metadata": {},
   "outputs": [],
   "source": [
    "nltk.download('punkt')"
   ]
  },
  {
   "cell_type": "markdown",
   "id": "74dbf975",
   "metadata": {},
   "source": [
    "#### Agora, vamos remover as stopwords"
   ]
  },
  {
   "cell_type": "code",
   "execution_count": null,
   "id": "0bf06778",
   "metadata": {
    "scrolled": true
   },
   "outputs": [],
   "source": [
    "sentences = nltk.sent_tokenize(text)\n",
    "\n",
    "sentences\n"
   ]
  },
  {
   "cell_type": "code",
   "execution_count": null,
   "id": "56b5ff79",
   "metadata": {},
   "outputs": [],
   "source": []
  },
  {
   "cell_type": "code",
   "execution_count": null,
   "id": "7515e5bb",
   "metadata": {},
   "outputs": [],
   "source": []
  },
  {
   "cell_type": "code",
   "execution_count": null,
   "id": "0b136bbe",
   "metadata": {},
   "outputs": [],
   "source": []
  },
  {
   "cell_type": "code",
   "execution_count": null,
   "id": "d681dac6",
   "metadata": {},
   "outputs": [],
   "source": []
  },
  {
   "cell_type": "code",
   "execution_count": null,
   "id": "86ae27f0",
   "metadata": {},
   "outputs": [],
   "source": [
    "sentences = [nltk.word_tokenize(sentence) for sentence in sentences]\n",
    "\n",
    "sentences"
   ]
  },
  {
   "cell_type": "code",
   "execution_count": null,
   "id": "17c4b59c",
   "metadata": {},
   "outputs": [],
   "source": []
  },
  {
   "cell_type": "code",
   "execution_count": null,
   "id": "6ae16071",
   "metadata": {},
   "outputs": [],
   "source": []
  },
  {
   "cell_type": "code",
   "execution_count": null,
   "id": "1cd9693e",
   "metadata": {},
   "outputs": [],
   "source": []
  },
  {
   "cell_type": "code",
   "execution_count": null,
   "id": "dd7d436c",
   "metadata": {},
   "outputs": [],
   "source": []
  },
  {
   "cell_type": "code",
   "execution_count": null,
   "id": "7a1ccb38",
   "metadata": {},
   "outputs": [],
   "source": []
  },
  {
   "cell_type": "code",
   "execution_count": null,
   "id": "dfbef0e8",
   "metadata": {},
   "outputs": [],
   "source": [
    "nltk.download('stopwords')"
   ]
  },
  {
   "cell_type": "code",
   "execution_count": null,
   "id": "2336e1f9",
   "metadata": {},
   "outputs": [],
   "source": [
    "# remoção das stopwords\n",
    "\n",
    "\n",
    "\n",
    "for i in range(len(sentences)):\n",
    "    empty_sentence = []\n",
    "    for word in sentences[i]:\n",
    "        if word not in stopwords.words('Portuguese'):\n",
    "            empty_sentence.append(word)\n",
    "        sentences[i] = empty_sentence"
   ]
  },
  {
   "cell_type": "code",
   "execution_count": null,
   "id": "972a88cc",
   "metadata": {},
   "outputs": [],
   "source": []
  },
  {
   "cell_type": "code",
   "execution_count": null,
   "id": "d641f695",
   "metadata": {},
   "outputs": [],
   "source": []
  },
  {
   "cell_type": "code",
   "execution_count": null,
   "id": "9d61af11",
   "metadata": {},
   "outputs": [],
   "source": []
  },
  {
   "cell_type": "code",
   "execution_count": null,
   "id": "1f6f97bb",
   "metadata": {},
   "outputs": [],
   "source": []
  },
  {
   "cell_type": "code",
   "execution_count": null,
   "id": "0e6c4d93",
   "metadata": {},
   "outputs": [],
   "source": []
  },
  {
   "cell_type": "markdown",
   "id": "31921e04",
   "metadata": {},
   "source": [
    "#### Agora, vamos utilizar o Word2Vec para encontrar palavras similares!"
   ]
  },
  {
   "cell_type": "code",
   "execution_count": null,
   "id": "2b05111e",
   "metadata": {},
   "outputs": [],
   "source": [
    "model = Word2Vec(sentences, min_count=1)\n",
    "\n",
    "words_vector = model.wv"
   ]
  },
  {
   "cell_type": "code",
   "execution_count": null,
   "id": "f9416585",
   "metadata": {},
   "outputs": [],
   "source": [
    "words_vector.most_similar(\"monarca\")"
   ]
  },
  {
   "cell_type": "code",
   "execution_count": null,
   "id": "9dd79aad",
   "metadata": {},
   "outputs": [],
   "source": []
  },
  {
   "cell_type": "code",
   "execution_count": null,
   "id": "9c092dcf",
   "metadata": {},
   "outputs": [],
   "source": [
    "words_vector.most_similar(\"Reino\")"
   ]
  },
  {
   "cell_type": "code",
   "execution_count": null,
   "id": "2945b661",
   "metadata": {},
   "outputs": [],
   "source": []
  },
  {
   "cell_type": "code",
   "execution_count": null,
   "id": "c9392fcf",
   "metadata": {},
   "outputs": [],
   "source": []
  }
 ],
 "metadata": {
  "kernelspec": {
   "display_name": "Python 3 (ipykernel)",
   "language": "python",
   "name": "python3"
  },
  "language_info": {
   "codemirror_mode": {
    "name": "ipython",
    "version": 3
   },
   "file_extension": ".py",
   "mimetype": "text/x-python",
   "name": "python",
   "nbconvert_exporter": "python",
   "pygments_lexer": "ipython3",
   "version": "3.8.9"
  }
 },
 "nbformat": 4,
 "nbformat_minor": 5
}
