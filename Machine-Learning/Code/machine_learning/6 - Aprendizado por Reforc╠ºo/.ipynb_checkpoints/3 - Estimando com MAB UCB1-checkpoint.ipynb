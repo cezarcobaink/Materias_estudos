{
 "cells": [
  {
   "cell_type": "markdown",
   "id": "262f4931",
   "metadata": {},
   "source": [
    "# `UCB1`"
   ]
  },
  {
   "cell_type": "markdown",
   "id": "c27012d5",
   "metadata": {},
   "source": [
    "#### Vamos ver uma implementação muito interessante do `UCB1`. Esse é um projeto do `Alison Carrera`, e tem sido utilizado em muitas empresas para implementação de MAB's. Vamos ver como funciona!\n",
    "\n",
    "https://github.com/alison-carrera/mabalgs"
   ]
  },
  {
   "cell_type": "code",
   "execution_count": 22,
   "id": "22fa12ec",
   "metadata": {},
   "outputs": [],
   "source": [
    "# !pip install mabalgs"
   ]
  },
  {
   "cell_type": "markdown",
   "id": "494429dc",
   "metadata": {},
   "source": [
    "Primeiro, vamos importar o UCB1"
   ]
  },
  {
   "cell_type": "code",
   "execution_count": 23,
   "id": "349723e3",
   "metadata": {},
   "outputs": [],
   "source": [
    "from mab.algs import UCB1"
   ]
  },
  {
   "cell_type": "code",
   "execution_count": null,
   "id": "df36ef4a",
   "metadata": {},
   "outputs": [],
   "source": []
  },
  {
   "cell_type": "markdown",
   "id": "95ab10eb",
   "metadata": {},
   "source": [
    "Agora, vamos criar um mab UCB1, com 3 arms"
   ]
  },
  {
   "cell_type": "code",
   "execution_count": 25,
   "id": "1fadce86",
   "metadata": {},
   "outputs": [],
   "source": [
    "ucb_with_three_arms = algs.UCB1(3)"
   ]
  },
  {
   "cell_type": "code",
   "execution_count": null,
   "id": "de34d338",
   "metadata": {},
   "outputs": [],
   "source": []
  },
  {
   "cell_type": "code",
   "execution_count": null,
   "id": "dc9ed7da",
   "metadata": {},
   "outputs": [],
   "source": []
  },
  {
   "cell_type": "markdown",
   "id": "d0ad363b",
   "metadata": {},
   "source": [
    "Agora, toda vez que quisermos selecionar um arm, usamos o método `select`"
   ]
  },
  {
   "cell_type": "code",
   "execution_count": 26,
   "id": "6091d805",
   "metadata": {},
   "outputs": [
    {
     "data": {
      "text/plain": [
       "(0, [0, 1, 2])"
      ]
     },
     "execution_count": 26,
     "metadata": {},
     "output_type": "execute_result"
    }
   ],
   "source": [
    "ucb_with_three_arms.select()"
   ]
  },
  {
   "cell_type": "code",
   "execution_count": null,
   "id": "5a7eabea",
   "metadata": {},
   "outputs": [],
   "source": []
  },
  {
   "cell_type": "code",
   "execution_count": null,
   "id": "2d70857f",
   "metadata": {},
   "outputs": [],
   "source": []
  },
  {
   "cell_type": "markdown",
   "id": "351e2758",
   "metadata": {},
   "source": [
    "Toda vez que ele for executado, ele irá calcular os upper bound confidences (UCB) e irá retornar o mab com maior UCB"
   ]
  },
  {
   "cell_type": "code",
   "execution_count": 27,
   "id": "13c9df35",
   "metadata": {},
   "outputs": [
    {
     "data": {
      "text/plain": [
       "(1, array([1, 0, 2]))"
      ]
     },
     "execution_count": 27,
     "metadata": {},
     "output_type": "execute_result"
    }
   ],
   "source": [
    "ucb_with_three_arms.select()"
   ]
  },
  {
   "cell_type": "code",
   "execution_count": null,
   "id": "de103453",
   "metadata": {},
   "outputs": [],
   "source": []
  },
  {
   "cell_type": "code",
   "execution_count": null,
   "id": "009581f4",
   "metadata": {},
   "outputs": [],
   "source": []
  },
  {
   "cell_type": "code",
   "execution_count": null,
   "id": "c2cad8e2",
   "metadata": {},
   "outputs": [],
   "source": []
  },
  {
   "cell_type": "code",
   "execution_count": null,
   "id": "c89f83fd",
   "metadata": {},
   "outputs": [],
   "source": []
  },
  {
   "cell_type": "markdown",
   "id": "67173d93",
   "metadata": {},
   "source": [
    "Daí, temos que recompensar o arm se ele gerar um retorno positivo!"
   ]
  },
  {
   "cell_type": "code",
   "execution_count": 28,
   "id": "ecd2fb8e",
   "metadata": {},
   "outputs": [
    {
     "data": {
      "text/plain": [
       "0"
      ]
     },
     "execution_count": 28,
     "metadata": {},
     "output_type": "execute_result"
    }
   ],
   "source": [
    "my_arm = ucb_with_two_arms.select()[0]\n",
    "my_arm"
   ]
  },
  {
   "cell_type": "code",
   "execution_count": 29,
   "id": "c6e07d76",
   "metadata": {},
   "outputs": [],
   "source": [
    "ucb_with_three_arms.reward(my_arm)"
   ]
  },
  {
   "cell_type": "code",
   "execution_count": null,
   "id": "90e20465",
   "metadata": {},
   "outputs": [],
   "source": []
  },
  {
   "cell_type": "code",
   "execution_count": null,
   "id": "13edd430",
   "metadata": {},
   "outputs": [],
   "source": []
  },
  {
   "cell_type": "code",
   "execution_count": null,
   "id": "acb10067",
   "metadata": {},
   "outputs": [],
   "source": []
  },
  {
   "cell_type": "markdown",
   "id": "3f674b99",
   "metadata": {},
   "source": [
    "A ideia é recompensar o arm toda vez que ele gerar um retorno positivo, e não fazer nada se não houver nenhum retorno."
   ]
  },
  {
   "cell_type": "markdown",
   "id": "2d7c54eb",
   "metadata": {},
   "source": [
    "Podemos avaliar o número de impressões de cada arm, assim como o de recompensas recebidas"
   ]
  },
  {
   "cell_type": "code",
   "execution_count": null,
   "id": "7022d66e",
   "metadata": {},
   "outputs": [],
   "source": []
  },
  {
   "cell_type": "code",
   "execution_count": 30,
   "id": "7bec775e",
   "metadata": {},
   "outputs": [
    {
     "data": {
      "text/plain": [
       "array([1., 1., 0.])"
      ]
     },
     "execution_count": 30,
     "metadata": {},
     "output_type": "execute_result"
    }
   ],
   "source": [
    "ucb_with_three_arms.n_impressions"
   ]
  },
  {
   "cell_type": "code",
   "execution_count": 31,
   "id": "615a2bc8",
   "metadata": {},
   "outputs": [
    {
     "data": {
      "text/plain": [
       "array([1., 0., 0.])"
      ]
     },
     "execution_count": 31,
     "metadata": {},
     "output_type": "execute_result"
    }
   ],
   "source": [
    "ucb_with_three_arms.n_rewards"
   ]
  }
 ],
 "metadata": {
  "kernelspec": {
   "display_name": "Python 3 (ipykernel)",
   "language": "python",
   "name": "python3"
  },
  "language_info": {
   "codemirror_mode": {
    "name": "ipython",
    "version": 3
   },
   "file_extension": ".py",
   "mimetype": "text/x-python",
   "name": "python",
   "nbconvert_exporter": "python",
   "pygments_lexer": "ipython3",
   "version": "3.8.9"
  }
 },
 "nbformat": 4,
 "nbformat_minor": 5
}
